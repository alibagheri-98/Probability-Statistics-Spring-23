{
 "cells": [
  {
   "cell_type": "markdown",
   "metadata": {
    "id": "CzA5FLOyQz-8"
   },
   "source": [
    "ابتدا باید کتاب خانه \n",
    "\n",
    "nashpy  \n",
    "\n",
    "را نصب کنیم"
   ]
  },
  {
   "cell_type": "code",
   "execution_count": 1,
   "metadata": {
    "colab": {
     "base_uri": "https://localhost:8080/"
    },
    "id": "Z3w1pJyDQqBk",
    "outputId": "dd483f02-5a30-443f-f7b9-e63f4d50751f"
   },
   "outputs": [
    {
     "name": "stdout",
     "output_type": "stream",
     "text": [
      "Looking in indexes: https://pypi.org/simple, https://us-python.pkg.dev/colab-wheels/public/simple/\n",
      "Collecting nashpy\n",
      "  Downloading nashpy-0.0.37-py3-none-any.whl (26 kB)\n",
      "Requirement already satisfied: numpy>=1.21.0 in /usr/local/lib/python3.10/dist-packages (from nashpy) (1.22.4)\n",
      "Requirement already satisfied: scipy>=0.19.0 in /usr/local/lib/python3.10/dist-packages (from nashpy) (1.10.1)\n",
      "Requirement already satisfied: networkx>=3.0.0 in /usr/local/lib/python3.10/dist-packages (from nashpy) (3.1)\n",
      "Installing collected packages: nashpy\n",
      "Successfully installed nashpy-0.0.37\n"
     ]
    }
   ],
   "source": [
    "!pip install nashpy"
   ]
  },
  {
   "cell_type": "markdown",
   "metadata": {
    "id": "G4R68hRjO1Ac"
   },
   "source": [
    "با  چند دستور ابتدایی این کتابخانه شروع میکنیم و آنها را توضیح میدهیم ..."
   ]
  },
  {
   "cell_type": "markdown",
   "metadata": {
    "id": "SWklANnoPIOy"
   },
   "source": [
    "در این قسمت هر دو جدول بازیکن سطر وستون با یکدیگر برابر هستند"
   ]
  },
  {
   "cell_type": "code",
   "execution_count": 2,
   "metadata": {
    "colab": {
     "base_uri": "https://localhost:8080/"
    },
    "id": "7WWboFwmO-2I",
    "outputId": "9a71c119-1ee5-420d-fc58-4bfa5e23fcd1"
   },
   "outputs": [
    {
     "name": "stdout",
     "output_type": "stream",
     "text": [
      "Zero sum game with payoff matrices:\n",
      "\n",
      "Row player:\n",
      "[[ 0 -1  1]\n",
      " [ 1  0 -1]\n",
      " [-1  1  0]]\n",
      "\n",
      "Column player:\n",
      "[[ 0  1 -1]\n",
      " [-1  0  1]\n",
      " [ 1 -1  0]]\n"
     ]
    }
   ],
   "source": [
    "import nashpy as nash\n",
    "import numpy as np\n",
    "A = np.array([[0, -1, 1], [1, 0, -1], [-1, 1, 0]])\n",
    "rps = nash.Game(A)\n",
    "print(rps)"
   ]
  },
  {
   "cell_type": "markdown",
   "metadata": {
    "id": "6Rhi2Z0zPYPi"
   },
   "source": [
    "اگر ماتریس های دو بازیکن با یکدیگر برابر نباشند به صورت زیر میتوانیم انجام دهیم"
   ]
  },
  {
   "cell_type": "code",
   "execution_count": 3,
   "metadata": {
    "colab": {
     "base_uri": "https://localhost:8080/"
    },
    "id": "KikZjo2ZPeZq",
    "outputId": "38bb0f95-f3ff-4247-f9b3-0a19279a3324"
   },
   "outputs": [
    {
     "name": "stdout",
     "output_type": "stream",
     "text": [
      "Bi matrix game with payoff matrices:\n",
      "\n",
      "Row player:\n",
      "[[ 0 -1  1]\n",
      " [ 1  0 -1]\n",
      " [-1  1  0]]\n",
      "\n",
      "Column player:\n",
      "[[ 1  0  1]\n",
      " [ 1  1 -1]\n",
      " [-1  1 -1]]\n"
     ]
    }
   ],
   "source": [
    "B =np.array([[1, 0, 1], [1, 1, -1], [-1, 1, -1]])\n",
    "rps = nash.Game(A, B)\n",
    "print(rps)"
   ]
  },
  {
   "cell_type": "markdown",
   "metadata": {
    "id": "dDI-hCFHQB3U"
   },
   "source": [
    "برای به دست آوردن یوتیلیتی یک استراتژی از جدول به صورت زیر انجام میدهیم"
   ]
  },
  {
   "cell_type": "code",
   "execution_count": 4,
   "metadata": {
    "colab": {
     "base_uri": "https://localhost:8080/"
    },
    "id": "LADeejHqQBYr",
    "outputId": "72dadcb9-06f6-4421-c422-be4b43651238"
   },
   "outputs": [
    {
     "name": "stdout",
     "output_type": "stream",
     "text": [
      "[1 1]\n"
     ]
    }
   ],
   "source": [
    "sigma_r = [0, 0, 1]\n",
    "sigma_c = [0, 1, 0]\n",
    "print(rps[sigma_r, sigma_c])"
   ]
  },
  {
   "cell_type": "markdown",
   "metadata": {
    "id": "uGUZ4kdri222"
   },
   "source": [
    "حال میخواهیم با استفاده از این کتابخانه نقطه(نقاط) تعادل نش بازی سنگ کاغذ قیجی را که در قسمت اول دیدید را پیدا کنیم.\n",
    "یک بار با استفاده از\n",
    "game.support_enumeration \n",
    "و بارهای دیگر با استفاده از \n",
    "game.vertex_enumeration , Lemke Howson\n",
    "کد را پیاده سازی کنید. \n",
    "و در پایان با جستجو در اینترنت بگویید که تفاوت عملکرد این سه در جیست و خروجی هر سه را با هم مقایسه کنید.\n",
    "آیا خروجی یا pure strategy است یا mixed strategy?"
   ]
  },
  {
   "cell_type": "code",
   "execution_count": 5,
   "metadata": {
    "colab": {
     "base_uri": "https://localhost:8080/"
    },
    "id": "1k1GB9mWi76a",
    "outputId": "c95a8f13-0dac-46d9-b82b-db80ade3037f"
   },
   "outputs": [
    {
     "name": "stderr",
     "output_type": "stream",
     "text": [
      "/usr/local/lib/python3.10/dist-packages/nashpy/algorithms/support_enumeration.py:259: RuntimeWarning: \n",
      "An even number of (4) equilibria was returned. This\n",
      "indicates that the game is degenerate. Consider using another algorithm\n",
      "to investigate.\n",
      "                  \n",
      "  warnings.warn(warning, RuntimeWarning)\n"
     ]
    },
    {
     "data": {
      "text/plain": [
       "[(array([1., 0., 0.]), array([0., 0., 1.])),\n",
       " (array([0., 1., 0.]), array([1., 0., 0.])),\n",
       " (array([0., 0., 1.]), array([0., 1., 0.])),\n",
       " (array([0.66666667, 0.        , 0.33333333]),\n",
       "  array([0.        , 0.33333333, 0.66666667]))]"
      ]
     },
     "execution_count": 5,
     "metadata": {},
     "output_type": "execute_result"
    }
   ],
   "source": [
    "eqs = rps.support_enumeration()\n",
    "list(eqs)"
   ]
  },
  {
   "cell_type": "markdown",
   "metadata": {
    "id": "EiFiLdNwjmE8"
   },
   "source": [
    "همانطور که میبینیم آخرین دو آرایه آخر ایندکس های غیر صحیح دارند که این دو عبارتند از نقاط تعادل میکس شده .\n",
    "که همان عبارت احتمالی برای انتخاب استراتژی مورد قبول یک فرد را میدهند."
   ]
  },
  {
   "cell_type": "markdown",
   "metadata": {
    "id": "JwbSgP0awSBt"
   },
   "source": [
    "برای چک کردن این که یک استراتژی بهترین جواب است  از کد زیر استفاده میکنیم."
   ]
  },
  {
   "cell_type": "code",
   "execution_count": 6,
   "metadata": {
    "colab": {
     "base_uri": "https://localhost:8080/"
    },
    "id": "uikKQJi3wcpe",
    "outputId": "3f6df806-e59b-437b-c82a-c185e577f992"
   },
   "outputs": [
    {
     "name": "stdout",
     "output_type": "stream",
     "text": [
      "(True, True)\n"
     ]
    }
   ],
   "source": [
    "sigma_r = np.array([0, 1, 0])\n",
    "sigma_c = np.array([1, 0, 0])\n",
    "print(rps.is_best_response(sigma_r, sigma_c))"
   ]
  },
  {
   "cell_type": "markdown",
   "metadata": {
    "id": "PzU9sWV9Y8Jg"
   },
   "source": [
    "\n",
    "ابتدا درباره مساله matching pennies تحقیق کنید.\n",
    "اگر بخواهیم چند بار انتخاب استراتژی انجام بگیرد، کدی بنویسید که تکرار عملیات صورت بگیرد\n",
    "تعداد تکرار را برابر 2 رد نظر بگیرید. \n",
    "ماتریس بازی را نمایش دهید."
   ]
  },
  {
   "cell_type": "code",
   "execution_count": 4,
   "metadata": {
    "colab": {
     "base_uri": "https://localhost:8080/"
    },
    "id": "tKT_O7_GxCE1",
    "outputId": "f286ab0b-3fb5-4b1e-f710-a120be51fb4a"
   },
   "outputs": [],
   "source": [
    "import nashpy.repeated_games\n",
    "A = np.array([[1, -1], [-1, 1]])\n",
    "matching_pennies = nash.Game(A)\n"
   ]
  },
  {
   "cell_type": "markdown",
   "metadata": {
    "id": "wlB-xIsTZ41h"
   },
   "source": [
    "حال اگر بخواهیم تعداد تکرار ها را بیشتر کنیم چه؟\n",
    "برای تکرار های بیشتر این روش محاسبات زیادی میخواهد بجایش از روش های لرنینگ استفاده میکنیم.\n"
   ]
  },
  {
   "cell_type": "markdown",
   "metadata": {
    "id": "qlJvhpB7dOj3"
   },
   "source": [
    "در زیر الگوریتم فیکتس\n",
    "game.fictitious_play\n",
    "یکی از روش های لرن کردن میباشد.\n",
    "البته همیشه این الگوریتم همگرا نمیشود "
   ]
  },
  {
   "cell_type": "code",
   "execution_count": 8,
   "metadata": {
    "colab": {
     "base_uri": "https://localhost:8080/"
    },
    "id": "U-ZLtkrPdYYS",
    "outputId": "9542c965-e211-4d0a-bbaf-c0345c01523a"
   },
   "outputs": [
    {
     "data": {
      "text/plain": [
       "[array([5464., 1436., 3100.]), array([2111., 4550., 3339.])]"
      ]
     },
     "execution_count": 8,
     "metadata": {},
     "output_type": "execute_result"
    }
   ],
   "source": [
    "A = np.array([[0, 1, 0], [0, 0, 1], [1, 0, 0]])\n",
    "B = np.array([[0, 0, 1], [1, 0, 0], [0, 1, 0]])\n",
    "game = nash.Game(A, B)\n",
    "iterations = 10000\n",
    "np.random.seed(0)\n",
    "play_counts = tuple(game.fictitious_play(iterations=iterations))\n",
    "play_counts[-1]"
   ]
  },
  {
   "cell_type": "markdown",
   "metadata": {
    "id": "HQYqVk6qOiyP"
   },
   "source": [
    "در مساله فوق اعداد آرایه\n",
    "play_counts \n",
    "باید بر تعداد iteration \n",
    "تقسیم کنید تا احتمال هر استراتژی بدست بیاید و خروجی را نشان دهید.\n",
    "و در نهایت احتمال هر استراتژی را برای بازیکن اول\n",
    "row player\n",
    "را نسبت به  \n",
    "پلات کنید.iterations\n",
    "آیا الگوریتمها همگرا میشوند؟ توضیح دهید...\n",
    " \n",
    " \n",
    " \n",
    "شما صرفا باید به روش گفته شده ptobabilities \n",
    "را بصورت مناسب تعریف کنید ..."
   ]
  },
  {
   "cell_type": "code",
   "execution_count": 9,
   "metadata": {
    "colab": {
     "base_uri": "https://localhost:8080/",
     "height": 527
    },
    "id": "OJ2zFz5jdgdi",
    "outputId": "3375c6ab-d9f4-4748-d5b2-a3ce5e646a2c"
   },
   "outputs": [
    {
     "name": "stderr",
     "output_type": "stream",
     "text": [
      "<ipython-input-9-e9a0b05537c2>:3: RuntimeWarning: invalid value encountered in true_divide\n",
      "  probabilities = [row_play_counts / np.sum(row_play_counts) for row_play_counts, col_play_counts in play_counts]\n"
     ]
    },
    {
     "data": {
      "text/plain": [
       "<matplotlib.legend.Legend at 0x7f3900722260>"
      ]
     },
     "execution_count": 9,
     "metadata": {},
     "output_type": "execute_result"
    },
    {
     "data": {
      "image/png": "[encoded data removed]",
      "text/plain": [
       "<Figure size 640x480 with 1 Axes>"
      ]
     },
     "metadata": {},
     "output_type": "display_data"
    }
   ],
   "source": [
    "import matplotlib.pyplot as plt\n",
    "plt.figure() \n",
    "\n",
    "probabilities = \n",
    "\n",
    "for number, strategy in enumerate(zip(*probabilities)):\n",
    "    plt.plot(strategy, label=f\"$s_{number}$\")  \n",
    "\n",
    "    \n",
    "    \n",
    "plt.xlabel(\"Iteration\")  \n",
    "plt.ylabel(\"Probability\")  \n",
    "plt.title(\"Actions taken by row player\")  \n",
    "plt.legend() "
   ]
  },
  {
   "cell_type": "markdown",
   "metadata": {
    "id": "rjibLE4zdww4"
   },
   "source": [
    "این بار برای ماتریس هایA , B\n",
    "همان الگوریتم قبلی را تکرار کنید و نشان دهید که این بار برای بازیکن دوم الگوریتم ها همگرا میشوند"
   ]
  },
  {
   "cell_type": "code",
   "execution_count": 3,
   "metadata": {
    "colab": {
     "base_uri": "https://localhost:8080/",
     "height": 545
    },
    "id": "UKSyvVX8d936",
    "outputId": "a1e9864b-fa2f-4f03-e820-910ed309f005"
   },
   "outputs": [],
   "source": [
    "A = np.array([[1 / 2, 1, 0], [0, 1 / 2, 1], [1, 0, 1 / 2]])\n",
    "B = np.array([[1 / 2, 0, 1], [1, 1 / 2, 0], [0, 1, 1 / 2]])\n",
    "game = nash.Game(A, B)\n",
    "np.random.seed(0)\n"
   ]
  },
  {
   "cell_type": "markdown",
   "metadata": {
    "id": "fNZ6IsGRN60e"
   },
   "source": [
    "حال میخواهیم ببینیم یک بازیکن در گذر زمان چه احتمالی از استراتژی ها را بازی میکند.\n",
    " با استفاده از الگوریتم \n",
    "replicator dynamics\n",
    "برای ماتریس های  هزینه َA,\n",
    "این کار را انجام دهید.\n",
    "( البته پیش از این کار همانند قسمت قبل \n",
    "احتمال هر استراتژی را برای بازیکن اول و دوم پلات بگیرید)"
   ]
  },
  {
   "cell_type": "code",
   "execution_count": 2,
   "metadata": {
    "colab": {
     "base_uri": "https://localhost:8080/"
    },
    "id": "ZTlgu9jXOJFe",
    "outputId": "7d9acaef-fe04-4839-c47f-31afbb9c8774"
   },
   "outputs": [],
   "source": [
    "import nashpy as nash\n",
    "import numpy as np\n",
    "A = np.array([[3, 2], [4, 2]])\n",
    "B = np.array([[1, 3], [2, 4]])\n",
    "game = nash.Game(A,B)"
   ]
  },
  {
   "cell_type": "markdown",
   "metadata": {
    "id": "nX-soVMtOukH"
   },
   "source": []
  },
  {
   "cell_type": "markdown",
   "metadata": {},
   "source": []
  },
  {
   "cell_type": "code",
   "execution_count": null,
   "metadata": {
    "colab": {
     "base_uri": "https://localhost:8080/"
    },
    "id": "qWj-0TllPD6F",
    "outputId": "816eb543-8c85-465a-aaa9-13c06cc363c7"
   },
   "outputs": [],
   "source": []
  },
  {
   "cell_type": "code",
   "execution_count": null,
   "metadata": {},
   "outputs": [],
   "source": []
  },
  {
   "cell_type": "code",
   "execution_count": null,
   "metadata": {},
   "outputs": [],
   "source": []
  },
  {
   "cell_type": "markdown",
   "metadata": {
    "id": "cZRicmgbzgJe"
   },
   "source": []
  },
  {
   "cell_type": "markdown",
   "metadata": {
    "id": "DClrKfmDeCbd"
   },
   "source": []
  },
  {
   "cell_type": "markdown",
   "metadata": {},
   "source": []
  },
  {
   "cell_type": "code",
   "execution_count": null,
   "metadata": {},
   "outputs": [],
   "source": []
  }
 ],
 "metadata": {
  "colab": {
   "provenance": []
  },
  "kernelspec": {
   "display_name": "Python 3 (ipykernel)",
   "language": "python",
   "name": "python3"
  },
  "language_info": {
   "codemirror_mode": {
    "name": "ipython",
    "version": 3
   },
   "file_extension": ".py",
   "mimetype": "text/x-python",
   "name": "python",
   "nbconvert_exporter": "python",
   "pygments_lexer": "ipython3",
   "version": "3.9.4"
  }
 },
 "nbformat": 4,
 "nbformat_minor": 1
}
